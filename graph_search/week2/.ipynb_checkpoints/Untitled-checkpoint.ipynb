{
 "cells": [
  {
   "cell_type": "code",
   "execution_count": 5,
   "metadata": {},
   "outputs": [],
   "source": [
    "vertices = {}\n",
    "with open(\"dijkstraData.txt\") as f:\n",
    "    for line in f:\n",
    "        tst = line.split(' ')\n",
    "        a = tst[0].split(\"\\t\")\n",
    "        break"
   ]
  },
  {
   "cell_type": "code",
   "execution_count": 2,
   "metadata": {},
   "outputs": [
    {
     "data": {
      "text/plain": [
       "['1\\t80,982\\t163,8164\\t170,2620\\t145,648\\t200,8021\\t173,2069\\t92,647\\t26,4122\\t140,546\\t11,1913\\t160,6461\\t27,7905\\t40,9047\\t150,2183\\t61,9146\\t159,7420\\t198,1724\\t114,508\\t104,6647\\t30,4612\\t99,2367\\t138,7896\\t169,8700\\t49,2437\\t125,2909\\t117,2597\\t55,6399\\t\\n']"
      ]
     },
     "execution_count": 2,
     "metadata": {},
     "output_type": "execute_result"
    }
   ],
   "source": [
    "tsts"
   ]
  },
  {
   "cell_type": "code",
   "execution_count": null,
   "metadata": {},
   "outputs": [],
   "source": [
    "import sys \n",
    "   \n",
    "class Graph(): \n",
    "   \n",
    "    def __init__(self, vertices): \n",
    "        self.V = vertices \n",
    "        self.graph = [[0 for column in range(vertices)]  \n",
    "                    for row in range(vertices)] \n",
    "   \n",
    "    def printSolution(self, dist): \n",
    "        print (\"Vertex tDistance from Source\") \n",
    "        for node in range(self.V): \n",
    "            print (node, \"t\", dist[node]) \n",
    "   \n",
    "    # A utility function to find the vertex with  \n",
    "    # minimum distance value, from the set of vertices  \n",
    "    # not yet included in shortest path tree \n",
    "    def minDistance(self, dist, sptSet): \n",
    "   \n",
    "        # Initilaize minimum distance for next node \n",
    "        min = sys.maxsize \n",
    "   \n",
    "        # Search not nearest vertex not in the  \n",
    "        # shortest path tree \n",
    "        for v in range(self.V): \n",
    "            if dist[v] < min and sptSet[v] == False: \n",
    "                min = dist[v] \n",
    "                min_index = v \n",
    "   \n",
    "        return min_index \n",
    "   \n",
    "    # Funtion that implements Dijkstra's single source  \n",
    "    # shortest path algorithm for a graph represented  \n",
    "    # using adjacency matrix representation \n",
    "    def dijkstra(self, src): \n",
    "   \n",
    "        dist = [sys.maxsize] * self.V \n",
    "        dist[src] = 0\n",
    "        sptSet = [False] * self.V \n",
    "   \n",
    "        for cout in range(self.V): \n",
    "   \n",
    "            # Pick the minimum distance vertex from  \n",
    "            # the set of vertices not yet processed.  \n",
    "            # u is always equal to src in first iteration \n",
    "            u = self.minDistance(dist, sptSet) \n",
    "   \n",
    "            # Put the minimum distance vertex in the  \n",
    "            # shotest path tree \n",
    "            sptSet[u] = True\n",
    "   \n",
    "            # Update dist value of the adjacent vertices  \n",
    "            # of the picked vertex only if the current  \n",
    "            # distance is greater than new distance and \n",
    "            # the vertex in not in the shotest path tree \n",
    "            for v in range(self.V): \n",
    "                if self.graph[u][v] > 0 and \\ \n",
    "                     sptSet[v] == False and \\ \n",
    "                     dist[v] > dist[u] + self.graph[u][v]: \n",
    "                    dist[v] = dist[u] + self.graph[u][v] \n",
    "   \n",
    "        self.printSolution(dist) "
   ]
  }
 ],
 "metadata": {
  "kernelspec": {
   "display_name": "Python 3",
   "language": "python",
   "name": "python3"
  },
  "language_info": {
   "codemirror_mode": {
    "name": "ipython",
    "version": 3
   },
   "file_extension": ".py",
   "mimetype": "text/x-python",
   "name": "python",
   "nbconvert_exporter": "python",
   "pygments_lexer": "ipython3",
   "version": "3.6.6"
  }
 },
 "nbformat": 4,
 "nbformat_minor": 2
}
