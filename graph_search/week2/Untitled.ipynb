{
 "cells": [
  {
   "cell_type": "code",
   "execution_count": 111,
   "metadata": {
    "scrolled": true
   },
   "outputs": [],
   "source": [
    "from collections import defaultdict\n",
    "vertices = defaultdict(dict)\n",
    "with open(\"dijkstraData.txt\") as f:\n",
    "    for line in f:\n",
    "        tst = line.split(' ')\n",
    "        a = tst[0].split(\"\\t\")\n",
    "        \n",
    "        source = int(a[0])\n",
    "        for item in a[1:-1]:\n",
    "            res = item.split(\",\")\n",
    "            vertices[source][int(res[0])] = int(res[1])\n"
   ]
  },
  {
   "cell_type": "code",
   "execution_count": 107,
   "metadata": {},
   "outputs": [],
   "source": [
    "A = {}\n",
    "B = {}\n",
    "S = 1\n",
    "X = [S]\n",
    "A[S] = 0\n",
    "B[S] = None"
   ]
  },
  {
   "cell_type": "code",
   "execution_count": 108,
   "metadata": {},
   "outputs": [
    {
     "data": {
      "text/plain": [
       "200"
      ]
     },
     "execution_count": 108,
     "metadata": {},
     "output_type": "execute_result"
    }
   ],
   "source": [
    "len(vertices.keys())"
   ]
  },
  {
   "cell_type": "code",
   "execution_count": 109,
   "metadata": {},
   "outputs": [],
   "source": [
    "cnt = 0\n",
    "while len(X) != 200:\n",
    "    distance = {}\n",
    "    for v in X:\n",
    "        flag = True\n",
    "        while flag:\n",
    "            if vertices[v] != {}:\n",
    "                key = min(vertices[v], key=vertices[v].get)\n",
    "                if key not in X:\n",
    "                    flag = False\n",
    "                    distance[v] = A[v] + vertices[v][key]\n",
    "                else:\n",
    "                    vertices[v].pop(key)\n",
    "                    pass\n",
    "            else:\n",
    "                flag = False\n",
    "        \n",
    "    selected_v = min(distance, key=distance.get)\n",
    "    selected_w = min(vertices[selected_v], key=vertices[selected_v].get)\n",
    "    A[selected_w] = A[selected_v] + vertices[selected_v].pop(selected_w)\n",
    "    X.append(selected_w)"
   ]
  },
  {
   "cell_type": "code",
   "execution_count": 112,
   "metadata": {},
   "outputs": [
    {
     "data": {
      "text/plain": [
       "{80: 982,\n",
       " 163: 8164,\n",
       " 170: 2620,\n",
       " 145: 648,\n",
       " 200: 8021,\n",
       " 173: 2069,\n",
       " 92: 647,\n",
       " 26: 4122,\n",
       " 140: 546,\n",
       " 11: 1913,\n",
       " 160: 6461,\n",
       " 27: 7905,\n",
       " 40: 9047,\n",
       " 150: 2183,\n",
       " 61: 9146,\n",
       " 159: 7420,\n",
       " 198: 1724,\n",
       " 114: 508,\n",
       " 104: 6647,\n",
       " 30: 4612,\n",
       " 99: 2367,\n",
       " 138: 7896,\n",
       " 169: 8700,\n",
       " 49: 2437,\n",
       " 125: 2909,\n",
       " 117: 2597,\n",
       " 55: 6399}"
      ]
     },
     "execution_count": 112,
     "metadata": {},
     "output_type": "execute_result"
    }
   ],
   "source": [
    "vertices[1]"
   ]
  },
  {
   "cell_type": "code",
   "execution_count": 115,
   "metadata": {},
   "outputs": [],
   "source": [
    "res = []\n",
    "for v in [7,37,59,82,99,115,133,165,188,197]:\n",
    "    res.append(A[v])"
   ]
  },
  {
   "cell_type": "code",
   "execution_count": 120,
   "metadata": {},
   "outputs": [
    {
     "data": {
      "text/plain": [
       "[2599, 2610, 2947, 2052, 2367, 2399, 2029, 2442, 2505, 3068]"
      ]
     },
     "execution_count": 120,
     "metadata": {},
     "output_type": "execute_result"
    }
   ],
   "source": [
    "res"
   ]
  },
  {
   "cell_type": "code",
   "execution_count": 119,
   "metadata": {},
   "outputs": [
    {
     "name": "stdout",
     "output_type": "stream",
     "text": [
      "4236\n",
      "3816\n",
      "7805\n",
      "4883\n",
      "5181\n",
      "4695\n",
      "8531\n",
      "230\n",
      "9117\n",
      "892\n",
      "6223\n",
      "5715\n",
      "1003\n",
      "6549\n",
      "6981\n",
      "198\n",
      "700\n",
      "5027\n",
      "88\n",
      "9114\n"
     ]
    }
   ],
   "source": [
    "for v in range(1, 201):\n",
    "    try:\n",
    "        print(vertices[v][188])\n",
    "    except:\n",
    "        pass"
   ]
  },
  {
   "cell_type": "code",
   "execution_count": null,
   "metadata": {},
   "outputs": [],
   "source": [
    "import sys \n",
    "   \n",
    "class Graph(): \n",
    "   \n",
    "    def __init__(self, vertices): \n",
    "        self.V = vertices \n",
    "        self.graph = [[0 for column in range(vertices)]  \n",
    "                    for row in range(vertices)] \n",
    "   \n",
    "    def printSolution(self, dist): \n",
    "        print (\"Vertex tDistance from Source\") \n",
    "        for node in range(self.V): \n",
    "            print (node, \"t\", dist[node]) \n",
    "   \n",
    "    # A utility function to find the vertex with  \n",
    "    # minimum distance value, from the set of vertices  \n",
    "    # not yet included in shortest path tree \n",
    "    def minDistance(self, dist, sptSet): \n",
    "   \n",
    "        # Initilaize minimum distance for next node \n",
    "        min = sys.maxsize \n",
    "   \n",
    "        # Search not nearest vertex not in the  \n",
    "        # shortest path tree \n",
    "        for v in range(self.V): \n",
    "            if dist[v] < min and sptSet[v] == False: \n",
    "                min = dist[v] \n",
    "                min_index = v \n",
    "   \n",
    "        return min_index \n",
    "   \n",
    "    # Funtion that implements Dijkstra's single source  \n",
    "    # shortest path algorithm for a graph represented  \n",
    "    # using adjacency matrix representation \n",
    "    def dijkstra(self, src): \n",
    "   \n",
    "        dist = [sys.maxsize] * self.V \n",
    "        dist[src] = 0\n",
    "        sptSet = [False] * self.V \n",
    "   \n",
    "        for cout in range(self.V): \n",
    "   \n",
    "            # Pick the minimum distance vertex from  \n",
    "            # the set of vertices not yet processed.  \n",
    "            # u is always equal to src in first iteration \n",
    "            u = self.minDistance(dist, sptSet) \n",
    "   \n",
    "            # Put the minimum distance vertex in the  \n",
    "            # shotest path tree \n",
    "            sptSet[u] = True\n",
    "   \n",
    "            # Update dist value of the adjacent vertices  \n",
    "            # of the picked vertex only if the current  \n",
    "            # distance is greater than new distance and \n",
    "            # the vertex in not in the shotest path tree \n",
    "            for v in range(self.V): \n",
    "                if self.graph[u][v] > 0 and \\ \n",
    "                     sptSet[v] == False and \\ \n",
    "                     dist[v] > dist[u] + self.graph[u][v]: \n",
    "                    dist[v] = dist[u] + self.graph[u][v] \n",
    "   \n",
    "        self.printSolution(dist) "
   ]
  }
 ],
 "metadata": {
  "kernelspec": {
   "display_name": "Python 3",
   "language": "python",
   "name": "python3"
  },
  "language_info": {
   "codemirror_mode": {
    "name": "ipython",
    "version": 3
   },
   "file_extension": ".py",
   "mimetype": "text/x-python",
   "name": "python",
   "nbconvert_exporter": "python",
   "pygments_lexer": "ipython3",
   "version": "3.6.6"
  }
 },
 "nbformat": 4,
 "nbformat_minor": 2
}
