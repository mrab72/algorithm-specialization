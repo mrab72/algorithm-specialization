{
 "cells": [
  {
   "cell_type": "code",
   "execution_count": 39,
   "metadata": {},
   "outputs": [],
   "source": [
    "import networkx as nx\n",
    "from collections import defaultdict"
   ]
  },
  {
   "cell_type": "code",
   "execution_count": null,
   "metadata": {},
   "outputs": [],
   "source": []
  },
  {
   "cell_type": "markdown",
   "metadata": {},
   "source": [
    "## Read Graph adjancy from file"
   ]
  },
  {
   "cell_type": "code",
   "execution_count": 15,
   "metadata": {},
   "outputs": [],
   "source": [
    "graph = []\n",
    "with open(\"scc.txt\") as f:\n",
    "    for line in f:\n",
    "        graph.append(line.split(' \\n')[0])"
   ]
  },
  {
   "cell_type": "code",
   "execution_count": 23,
   "metadata": {},
   "outputs": [],
   "source": [
    "G = nx.read_edgelist(\"scc.txt\", create_using=nx.DiGraph())"
   ]
  },
  {
   "cell_type": "code",
   "execution_count": null,
   "metadata": {},
   "outputs": [],
   "source": [
    "def DFS_loop(G, n):\n",
    "    f = defaultdict()\n",
    "    source_vertex = None\n",
    "    finish_time = 0\n",
    "    explored_node = set()\n",
    "    for i in reversed(range(1, n + 1)):\n",
    "        if i not in explored_node:\n",
    "            source_vertex = i\n",
    "            DFS(G, i)\n",
    "\n",
    "    def DFS(G,i):\n",
    "        explored_node.add(i)\n",
    "        for v, w in G.out_edges([str(i)]) :\n",
    "            if int(w) not in explored_node:\n",
    "                DFS(G, w)\n",
    "    t += 1\n",
    "    f[i] = t\n",
    "    return f[i]"
   ]
  },
  {
   "cell_type": "code",
   "execution_count": 36,
   "metadata": {},
   "outputs": [],
   "source": [
    "out_edges = G.out_edges(['2'])"
   ]
  },
  {
   "cell_type": "code",
   "execution_count": 38,
   "metadata": {},
   "outputs": [
    {
     "name": "stdout",
     "output_type": "stream",
     "text": [
      "2 47646\n",
      "2 47647\n",
      "2 13019\n",
      "2 47648\n",
      "2 47649\n",
      "2 47650\n",
      "2 7700\n",
      "2 47651\n",
      "2 47652\n"
     ]
    }
   ],
   "source": [
    "for x, y in (out_edges):\n",
    "    print(x, y)"
   ]
  },
  {
   "cell_type": "code",
   "execution_count": null,
   "metadata": {},
   "outputs": [],
   "source": []
  }
 ],
 "metadata": {
  "kernelspec": {
   "display_name": "Python 3",
   "language": "python",
   "name": "python3"
  },
  "language_info": {
   "codemirror_mode": {
    "name": "ipython",
    "version": 3
   },
   "file_extension": ".py",
   "mimetype": "text/x-python",
   "name": "python",
   "nbconvert_exporter": "python",
   "pygments_lexer": "ipython3",
   "version": "3.6.6"
  }
 },
 "nbformat": 4,
 "nbformat_minor": 2
}
